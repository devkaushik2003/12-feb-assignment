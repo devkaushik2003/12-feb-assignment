{
 "cells": [
  {
   "cell_type": "code",
   "execution_count": 10,
   "id": "f1024fe4-4490-4e37-bd81-71ae710d1c80",
   "metadata": {
    "tags": []
   },
   "outputs": [],
   "source": [
    "# What is an Exception in python? Write the difference between Exceptions and Syntax errors."
   ]
  },
  {
   "cell_type": "code",
   "execution_count": 11,
   "id": "288f4832-852f-4d1a-8dcf-2a66623ea461",
   "metadata": {
    "tags": []
   },
   "outputs": [],
   "source": [
    "# an exception is an event that occurs during the execution of a program that disrupts the normal flow of instructions.\n",
    "# Exceptions can occur for a variety of reasons, such as a programming error, user error, or system error.\n",
    "# When an exception occurs, the program terminates and displays an error message, unless the exception is handled by the program."
   ]
  },
  {
   "cell_type": "code",
   "execution_count": 12,
   "id": "4e60c692-79ed-47ca-bec3-a656088c3aff",
   "metadata": {
    "tags": []
   },
   "outputs": [],
   "source": [
    "# Syntax errors occur when the Python interpreter cannot parse the code, i.e., it violates the rules of the language.\n",
    "# Examples of syntax errors include missing colons, parentheses, or quotes.\n",
    "# These errors occur before the code is executed and are detected by the interpreter during the parsing phase.\n",
    "# In contrast, exceptions occur during the execution of the code.\n",
    "\n",
    "# Exceptions occur when the code is syntactically correct but causes an error during its execution. \n",
    "# Examples of exceptions include division by zero, file not found, and out of memory. \n",
    "# Exceptions can be handled using try-except blocks, which allow the program to recover from the exception and continue executing."
   ]
  },
  {
   "cell_type": "code",
   "execution_count": 13,
   "id": "7211f9b5-f0b6-4a5e-a034-dad21cd1eb56",
   "metadata": {
    "tags": []
   },
   "outputs": [],
   "source": [
    "# What happens when an exception is not handled? Explain with an example."
   ]
  },
  {
   "cell_type": "code",
   "execution_count": 14,
   "id": "ca6df4d4-d11a-4bbc-9bbb-a75842915f98",
   "metadata": {
    "tags": []
   },
   "outputs": [],
   "source": [
    "# When an exception is not handled in Python, it results in an error message being displayed and the program terminating abruptly. "
   ]
  },
  {
   "cell_type": "code",
   "execution_count": 15,
   "id": "d950cd15-ef10-46c2-a66a-df4cb395ff32",
   "metadata": {
    "tags": []
   },
   "outputs": [
    {
     "ename": "ZeroDivisionError",
     "evalue": "division by zero",
     "output_type": "error",
     "traceback": [
      "\u001b[1;31m---------------------------------------------------------------------------\u001b[0m",
      "\u001b[1;31mZeroDivisionError\u001b[0m                         Traceback (most recent call last)",
      "Input \u001b[1;32mIn [15]\u001b[0m, in \u001b[0;36m<cell line: 4>\u001b[1;34m()\u001b[0m\n\u001b[0;32m      2\u001b[0m num1 \u001b[38;5;241m=\u001b[39m \u001b[38;5;241m10\u001b[39m\n\u001b[0;32m      3\u001b[0m num2 \u001b[38;5;241m=\u001b[39m \u001b[38;5;241m0\u001b[39m\n\u001b[1;32m----> 4\u001b[0m result \u001b[38;5;241m=\u001b[39m \u001b[43mnum1\u001b[49m\u001b[43m \u001b[49m\u001b[38;5;241;43m/\u001b[39;49m\u001b[43m \u001b[49m\u001b[43mnum2\u001b[49m\n\u001b[0;32m      5\u001b[0m \u001b[38;5;28mprint\u001b[39m(result)\n",
      "\u001b[1;31mZeroDivisionError\u001b[0m: division by zero"
     ]
    }
   ],
   "source": [
    "# A simple program to divide two numbers\n",
    "num1 = 10\n",
    "num2 = 0\n",
    "result = num1 / num2\n",
    "print(result)\n"
   ]
  },
  {
   "cell_type": "code",
   "execution_count": null,
   "id": "cb7fbc02-7d54-4d23-bdb2-731a3c04b26e",
   "metadata": {},
   "outputs": [],
   "source": [
    "# As you can see, the error message indicates that the exception was not handled and provides information\n",
    "# about the type of exception and the line number where it occurred."
   ]
  },
  {
   "cell_type": "code",
   "execution_count": 17,
   "id": "3b19af17-2bb2-4126-b610-0bfd31ff409d",
   "metadata": {
    "tags": []
   },
   "outputs": [
    {
     "name": "stdout",
     "output_type": "stream",
     "text": [
      "Error: Cannot divide by zero\n"
     ]
    }
   ],
   "source": [
    "num1 = 10\n",
    "num2 = 0\n",
    "try:\n",
    "    result = num1 / num2\n",
    "except ZeroDivisionError:\n",
    "    print(\"Error: Cannot divide by zero\")\n",
    "else:\n",
    "    print(result)\n"
   ]
  },
  {
   "cell_type": "code",
   "execution_count": 18,
   "id": "a0046093-8623-4bcb-9c6e-53e1a6f67843",
   "metadata": {
    "tags": []
   },
   "outputs": [],
   "source": [
    "# Which Python statements are used to catch and handle exceptions? Explain with an example."
   ]
  },
  {
   "cell_type": "code",
   "execution_count": 19,
   "id": "3063f64f-ce4a-44ab-ad5f-f390d70bf169",
   "metadata": {
    "tags": []
   },
   "outputs": [],
   "source": [
    "# we use the try-except statement. \n",
    "# The try block contains the code that might raise an exception, \n",
    "# while the except block contains the code that handles the exception."
   ]
  },
  {
   "cell_type": "code",
   "execution_count": 21,
   "id": "c98c1258-3140-4c17-bbf9-ca0acfb4d3e5",
   "metadata": {
    "tags": []
   },
   "outputs": [
    {
     "name": "stdout",
     "output_type": "stream",
     "text": [
      "this is some problem unsupported operand type(s) for /: 'str' and 'int'\n",
      "this will execute  even try didnt gets executed\n"
     ]
    }
   ],
   "source": [
    "try:\n",
    "    print(\"hello\"/9)\n",
    "except Exception as e:\n",
    "    print(\"this is some problem\",e)\n",
    "else:\n",
    "    print(\"this will be executed only if try statement execute\")\n",
    "finally:\n",
    "    print(\"this will execute  even try didnt gets executed\")"
   ]
  },
  {
   "cell_type": "code",
   "execution_count": null,
   "id": "5882723a-b3af-401d-8cab-19a8955aa99a",
   "metadata": {},
   "outputs": [],
   "source": []
  },
  {
   "cell_type": "code",
   "execution_count": 22,
   "id": "f286a52d-95aa-4f78-9c0a-877c1f7739fc",
   "metadata": {
    "tags": []
   },
   "outputs": [],
   "source": [
    "# Explain with an example:\n",
    "# a. try and else\n",
    "# b. finally\n",
    "# c. raise"
   ]
  },
  {
   "cell_type": "code",
   "execution_count": null,
   "id": "fc4cb796-582d-42f6-abb0-152354fa2b6a",
   "metadata": {},
   "outputs": [],
   "source": [
    "try:\n",
    "    print(\"hello\"/9)\n",
    "except Exception as e:\n",
    "    print(\"this is some problem\",e)\n",
    "else:\n",
    "    print(\"this will be executed only if try statement execute\")\n",
    "finally:\n",
    "    print(\"this will execute  even try didnt gets executed\")"
   ]
  },
  {
   "cell_type": "code",
   "execution_count": null,
   "id": "cb0f304d-2465-459a-b8a6-3d6688d8acf5",
   "metadata": {},
   "outputs": [],
   "source": [
    "# What are Custom Exceptions in python? Why do we need Custom Exceptions? Explain with an example.\n"
   ]
  },
  {
   "cell_type": "code",
   "execution_count": 24,
   "id": "1669da1e-b386-45b7-9aed-5840e39aa277",
   "metadata": {
    "tags": []
   },
   "outputs": [],
   "source": [
    "class markschecker(Exception):\n",
    "    def __init__(self,msg):\n",
    "        self.msg = msg\n",
    "def markssee(marks):\n",
    "    if (marks<0):\n",
    "        raise markschecker(\"the marks are negative\")\n",
    "    elif(marks>100):\n",
    "        raise markschecker(\"the marks are too high\")"
   ]
  },
  {
   "cell_type": "code",
   "execution_count": 26,
   "id": "2d97b6a0-6310-41df-b436-36972c3e1159",
   "metadata": {
    "tags": []
   },
   "outputs": [
    {
     "name": "stdin",
     "output_type": "stream",
     "text": [
      "enter your marks-> 12\n"
     ]
    },
    {
     "name": "stdout",
     "output_type": "stream",
     "text": [
      "marks are valid\n"
     ]
    }
   ],
   "source": [
    "try:\n",
    "    marks = int(input(\"enter your marks->\"))\n",
    "    markssee(marks)\n",
    "except markschecker as e:\n",
    "    print(e)\n",
    "else:\n",
    "    print(\"marks are valid\")"
   ]
  },
  {
   "cell_type": "code",
   "execution_count": 27,
   "id": "2ed1369f-6e11-4bff-b960-7f50f7d06a2f",
   "metadata": {
    "tags": []
   },
   "outputs": [],
   "source": [
    "# Create a custom exception class. Use this class to handle an exception."
   ]
  },
  {
   "cell_type": "code",
   "execution_count": 29,
   "id": "479db922-0652-4581-ab61-e7b4c0a0f3db",
   "metadata": {
    "tags": []
   },
   "outputs": [],
   "source": [
    "class NegativeNumberError(Exception):\n",
    "    def __init__(self, message):\n",
    "        self.message = message\n"
   ]
  },
  {
   "cell_type": "code",
   "execution_count": 30,
   "id": "48140773-4e25-4498-a6b0-d5db3714eb20",
   "metadata": {
    "tags": []
   },
   "outputs": [
    {
     "name": "stdout",
     "output_type": "stream",
     "text": [
      "Cannot calculate square root of a negative number\n"
     ]
    }
   ],
   "source": [
    "def calculate_square_root(number):\n",
    "    if number < 0:\n",
    "        raise NegativeNumberError(\"Cannot calculate square root of a negative number\")\n",
    "    else:\n",
    "        return number ** 0.5\n",
    "\n",
    "try:\n",
    "    result = calculate_square_root(-4)\n",
    "except NegativeNumberError as e:\n",
    "    print(e.message)\n",
    "else:\n",
    "    print(result)\n"
   ]
  }
 ],
 "metadata": {
  "kernelspec": {
   "display_name": "Python 3 (ipykernel)",
   "language": "python",
   "name": "python3"
  },
  "language_info": {
   "codemirror_mode": {
    "name": "ipython",
    "version": 3
   },
   "file_extension": ".py",
   "mimetype": "text/x-python",
   "name": "python",
   "nbconvert_exporter": "python",
   "pygments_lexer": "ipython3",
   "version": "3.10.0"
  }
 },
 "nbformat": 4,
 "nbformat_minor": 5
}
